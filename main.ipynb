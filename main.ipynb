{
 "cells": [
  {
   "cell_type": "code",
   "execution_count": null,
   "id": "aae59292-b741-4e65-91a9-567db5ecf1f3",
   "metadata": {},
   "outputs": [],
   "source": [
    "from scripts.datasets import E3Datasets\n",
    "from scripts.model import E3Model\n",
    "from scripts.trainer import train_epoch\n",
    "from scripts.animator import Animator\n",
    "from scripts.test_sgd import test_sgd\n",
    "from scripts.test_batch_size import test_batch_size\n",
    "from scripts.test_initialisation import test_initialisation\n",
    "from scripts.visualisation import visualisation_results\n",
    "from scripts.test_optimizer import test_optimizer\n",
    "from torch.utils.data import DataLoader\n",
    "import torch\n",
    "from torch import nn\n",
    "\n",
    "if __name__ == \"__main__\":\n",
    "    device = 'cuda' if torch.cuda.is_available() else 'cpu'\n",
    "    datasets_num = 100000\n",
    "    batch_size = 32\n",
    "    lr = 1e-5\n",
    "    num_epochs = 100\n",
    "    seed = 505\n",
    "    train = True\n",
    "    test_SGD = False\n",
    "    bool_test_batch_size = False\n",
    "    bool_test_initialisation = False\n",
    "    bool_test_optimizer = False\n",
    "\n",
    "    # create train and test data for e3 task\n",
    "    train_data = E3Datasets(num=int(datasets_num*0.7), type='train', device=device, seed=seed)\n",
    "    test_data = E3Datasets(num=int(datasets_num*0.3), type='test', device=device, seed=seed)\n",
    "\n",
    "    # create dataloader\n",
    "    train_dataloader = DataLoader(train_data, batch_size=batch_size, shuffle=True)\n",
    "    test_dataloader = DataLoader(test_data, batch_size=batch_size, shuffle=False)\n",
    "    \n",
    "    # create e3model\n",
    "    model = E3Model(seed=seed).to(device)\n",
    "\n",
    "    # create loss function and optimizer\n",
    "    loss_fn = nn.CrossEntropyLoss()\n",
    "    optimizer = torch.optim.SGD(model.parameters(), lr=lr)\n",
    "\n",
    "    # train\n",
    "    if train:\n",
    "        if test_SGD:\n",
    "            lr_test_loss, lr_test_acc = test_sgd(train_dataloader, test_dataloader, model, loss_fn, num_epochs)\n",
    "\n",
    "        if bool_test_batch_size:\n",
    "            lr_test_loss, lr_test_acc = test_batch_size(train_data, test_data, model, loss_fn, optimizer, num_epochs)\n",
    "\n",
    "        if bool_test_initialisation:\n",
    "            lr_test_loss, lr_test_acc = test_initialisation(train_dataloader, test_dataloader, model, loss_fn, optimizer, num_epochs)\n",
    "\n",
    "        if bool_test_optimizer:\n",
    "            lr_test_loss, lr_test_acc = test_optimizer(train_dataloader, test_dataloader, model, loss_fn, num_epochs)\n",
    "\n",
    "        # create accumulator and animator\n",
    "        animator = Animator(xlabel=\"epoch\", xlim=[1,num_epochs],legend=[\"train_loss\", \"test_loss\", \"train_acc\", \"test_acc\"], nrows=2, ncols=1, figsize=[14, 10])\n",
    "        train_epoch(train_dataloader, test_dataloader, model, loss_fn, optimizer, num_epochs, animator)\n",
    "        # torch.save(model.state_dict(), '/root/autodl-tmp/models/base.pth')\n",
    "\n",
    "    # eval\n",
    "    if not train:\n",
    "        model.load_state_dict(torch.load('models/base.pth'))\n",
    "        model.eval()\n",
    "\n",
    "        visualisation_results(test_dataloader, model) \n",
    "\n",
    "\n"
   ]
  }
 ],
 "metadata": {
  "kernelspec": {
   "display_name": "Python 3 (ipykernel)",
   "language": "python",
   "name": "python3"
  },
  "language_info": {
   "codemirror_mode": {
    "name": "ipython",
    "version": 3
   },
   "file_extension": ".py",
   "mimetype": "text/x-python",
   "name": "python",
   "nbconvert_exporter": "python",
   "pygments_lexer": "ipython3",
   "version": "3.8.10"
  },
  "vscode": {
   "interpreter": {
    "hash": "2f394aca7ca06fed1e6064aef884364492d7cdda3614a461e02e6407fc40ba69"
   }
  }
 },
 "nbformat": 4,
 "nbformat_minor": 5
}
